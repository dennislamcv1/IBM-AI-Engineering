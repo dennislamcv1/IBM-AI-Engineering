{
 "cells": [
  {
   "cell_type": "markdown",
   "metadata": {
    "button": false,
    "new_sheet": false,
    "run_control": {
     "read_only": false
    }
   },
   "source": [
    "<a href=\"https://cognitiveclass.ai\"><img src = \"https://s3-api.us-geo.objectstorage.softlayer.net/cf-courses-data/CognitiveClass/Logos/organization_logo/organization_logo.png\" width = 400> </a>\n",
    "\n",
    "<h1 align=center><font size = 5>Loading Data</font></h1>"
   ]
  },
  {
   "cell_type": "markdown",
   "metadata": {
    "button": false,
    "new_sheet": false,
    "run_control": {
     "read_only": false
    }
   },
   "source": [
    "## Introduction\n"
   ]
  },
  {
   "cell_type": "markdown",
   "metadata": {
    "button": false,
    "new_sheet": false,
    "run_control": {
     "read_only": false
    }
   },
   "source": [
    "Crack detection has vital importance for structural health monitoring and inspection. In this series of labs, you learn everything you need to efficiently build a classifier using a pre-trained model that would detect cracks in images of concrete. For problem formulation, we will denote images of cracked concrete as the positive class and images of concrete with no cracks as the negative class.\n",
    "\n",
    "In this lab, I will walk you through the process of loading and visualizing the image dataset. \n",
    "\n",
    "**Please note**: You will encounter questions that you will need to answer in order to complete the quiz for this module."
   ]
  },
  {
   "cell_type": "markdown",
   "metadata": {
    "button": false,
    "new_sheet": false,
    "run_control": {
     "read_only": false
    }
   },
   "source": [
    "## Table of Contents\n",
    "\n",
    "<div class=\"alert alert-block alert-info\" style=\"margin-top: 20px\">\n",
    "\n",
    "<font size = 3>    \n",
    "\n",
    "1. <a href=\"#item11\">Download Data</a>\n",
    "2. <a href=\"#item12\">Import Libraries and Packages</a>  \n",
    "3. <a href=\"#item13\">Load Images</a>\n",
    "</font>\n",
    "    \n",
    "</div>"
   ]
  },
  {
   "cell_type": "markdown",
   "metadata": {
    "button": false,
    "new_sheet": false,
    "run_control": {
     "read_only": false
    }
   },
   "source": [
    "   "
   ]
  },
  {
   "cell_type": "markdown",
   "metadata": {
    "button": false,
    "new_sheet": false,
    "run_control": {
     "read_only": false
    }
   },
   "source": [
    "<a id='item11'></a>"
   ]
  },
  {
   "cell_type": "markdown",
   "metadata": {
    "button": false,
    "new_sheet": false,
    "run_control": {
     "read_only": false
    }
   },
   "source": [
    "## Download Data"
   ]
  },
  {
   "cell_type": "markdown",
   "metadata": {
    "button": false,
    "new_sheet": false,
    "run_control": {
     "read_only": false
    }
   },
   "source": [
    "For your convenience, I have placed the data on a server which you can retrieve easily using the **wget** command. So let's run the following line of code to get the data. Given the large size of the image dataset, it might take some time depending on your internet speed."
   ]
  },
  {
   "cell_type": "code",
   "execution_count": null,
   "metadata": {
    "button": false,
    "new_sheet": false,
    "run_control": {
     "read_only": false
    }
   },
   "outputs": [],
   "source": [
    "# get the data\n",
    "#!wget https://s3-api.us-geo.objectstorage.softlayer.net/cf-courses-data/CognitiveClass/DL0321EN/data/images/concrete_crack_images_for_classification.zip"
   ]
  },
  {
   "cell_type": "markdown",
   "metadata": {
    "button": false,
    "new_sheet": false,
    "run_control": {
     "read_only": false
    }
   },
   "source": [
    "And now if you check the left directory pane, you should see the zipped file *concrete_crack_images_for_classification.zip* appear. So, let's go ahead and unzip the file to access the images. Given the large number of images in the dataset, this might take a couple of minutes, so please be patient, and wait until the code finishes running."
   ]
  },
  {
   "cell_type": "code",
   "execution_count": null,
   "metadata": {
    "button": false,
    "new_sheet": false,
    "run_control": {
     "read_only": false
    },
    "scrolled": true
   },
   "outputs": [],
   "source": [
    "#!unzip concrete_crack_images_for_classification.zip"
   ]
  },
  {
   "cell_type": "markdown",
   "metadata": {
    "button": false,
    "new_sheet": false,
    "run_control": {
     "read_only": false
    }
   },
   "source": [
    "Now, you should see two folders appear in the left pane: *Positive* and *Negative*. *Negative* is the negative class like we defined it earlier and it represents the concrete images with no cracks. *Positive* on the other hand is the positive class and represents the concrete images with cracks."
   ]
  },
  {
   "cell_type": "markdown",
   "metadata": {
    "button": false,
    "new_sheet": false,
    "run_control": {
     "read_only": false
    }
   },
   "source": [
    "**Important Note**: There are thousands and thousands of images in each folder, so please don't attempt to double click on the folders. This may consume all of your memory and you may end up with a **50*** error. So please **DO NOT DO IT**."
   ]
  },
  {
   "cell_type": "markdown",
   "metadata": {
    "button": false,
    "new_sheet": false,
    "run_control": {
     "read_only": false
    }
   },
   "source": [
    "   "
   ]
  },
  {
   "cell_type": "markdown",
   "metadata": {
    "button": false,
    "new_sheet": false,
    "run_control": {
     "read_only": false
    }
   },
   "source": [
    "<a id='item12'></a>"
   ]
  },
  {
   "cell_type": "markdown",
   "metadata": {
    "button": false,
    "new_sheet": false,
    "run_control": {
     "read_only": false
    }
   },
   "source": [
    "## Import Libraries and Packages"
   ]
  },
  {
   "cell_type": "markdown",
   "metadata": {
    "button": false,
    "new_sheet": false,
    "run_control": {
     "read_only": false
    }
   },
   "source": [
    "Before we proceed, let's import the libraries and packages that we will need to complete the rest of this lab."
   ]
  },
  {
   "cell_type": "code",
   "execution_count": 1,
   "metadata": {
    "button": false,
    "new_sheet": false,
    "run_control": {
     "read_only": false
    }
   },
   "outputs": [],
   "source": [
    "import os\n",
    "import numpy as np\n",
    "import matplotlib.pyplot as plt\n",
    "\n",
    "from PIL import Image"
   ]
  },
  {
   "cell_type": "markdown",
   "metadata": {
    "button": false,
    "new_sheet": false,
    "run_control": {
     "read_only": false
    }
   },
   "source": [
    "  "
   ]
  },
  {
   "cell_type": "markdown",
   "metadata": {
    "button": false,
    "new_sheet": false,
    "run_control": {
     "read_only": false
    }
   },
   "source": [
    "<a id='item13'></a>"
   ]
  },
  {
   "cell_type": "markdown",
   "metadata": {
    "button": false,
    "new_sheet": false,
    "run_control": {
     "read_only": false
    }
   },
   "source": [
    "## Load Images"
   ]
  },
  {
   "cell_type": "markdown",
   "metadata": {
    "button": false,
    "new_sheet": false,
    "run_control": {
     "read_only": false
    }
   },
   "source": [
    "Next, we will use the standard approach of loading all images into memory and demonstrate how this approach is not efficient at all when it comes to building deep learning models for classifying images."
   ]
  },
  {
   "cell_type": "markdown",
   "metadata": {
    "button": false,
    "new_sheet": false,
    "run_control": {
     "read_only": false
    }
   },
   "source": [
    "Let's start by reading in the negative images. First, we will use **os.scandir** to build an iterator to iterate through *./Negative* directory that contains all the images with no cracks."
   ]
  },
  {
   "cell_type": "code",
   "execution_count": 2,
   "metadata": {
    "button": false,
    "new_sheet": false,
    "run_control": {
     "read_only": false
    }
   },
   "outputs": [
    {
     "data": {
      "text/plain": [
       "<nt.ScandirIterator at 0x1e56867add0>"
      ]
     },
     "execution_count": 2,
     "metadata": {},
     "output_type": "execute_result"
    }
   ],
   "source": [
    "negative_files = os.scandir(r'C:\\Users\\Dennis\\Desktop\\AI Capstone Project with Deep Learning\\Negative')\n",
    "negative_files"
   ]
  },
  {
   "cell_type": "markdown",
   "metadata": {
    "button": false,
    "new_sheet": false,
    "run_control": {
     "read_only": false
    }
   },
   "source": [
    "Then, we will grab the first file in the directory."
   ]
  },
  {
   "cell_type": "code",
   "execution_count": 3,
   "metadata": {
    "button": false,
    "new_sheet": false,
    "run_control": {
     "read_only": false
    }
   },
   "outputs": [
    {
     "data": {
      "text/plain": [
       "<DirEntry '00001.jpg'>"
      ]
     },
     "execution_count": 3,
     "metadata": {},
     "output_type": "execute_result"
    }
   ],
   "source": [
    "file_name = next(negative_files)\n",
    "file_name"
   ]
  },
  {
   "cell_type": "markdown",
   "metadata": {
    "button": false,
    "new_sheet": false,
    "run_control": {
     "read_only": false
    }
   },
   "source": [
    "Since the directory can contain elements that are not files, we will only read the element if it is a file."
   ]
  },
  {
   "cell_type": "code",
   "execution_count": 4,
   "metadata": {
    "button": false,
    "new_sheet": false,
    "run_control": {
     "read_only": false
    }
   },
   "outputs": [
    {
     "data": {
      "text/plain": [
       "True"
      ]
     },
     "execution_count": 4,
     "metadata": {},
     "output_type": "execute_result"
    }
   ],
   "source": [
    "os.path.isfile(file_name)"
   ]
  },
  {
   "cell_type": "markdown",
   "metadata": {
    "button": false,
    "new_sheet": false,
    "run_control": {
     "read_only": false
    }
   },
   "source": [
    "Get the image name."
   ]
  },
  {
   "cell_type": "code",
   "execution_count": 5,
   "metadata": {
    "button": false,
    "new_sheet": false,
    "run_control": {
     "read_only": false
    }
   },
   "outputs": [
    {
     "data": {
      "text/plain": [
       "'00001.jpg'"
      ]
     },
     "execution_count": 5,
     "metadata": {},
     "output_type": "execute_result"
    }
   ],
   "source": [
    "image_name = str(file_name).split(\"'\")[1]\n",
    "image_name"
   ]
  },
  {
   "cell_type": "markdown",
   "metadata": {
    "button": false,
    "new_sheet": false,
    "run_control": {
     "read_only": false
    }
   },
   "source": [
    "Read in the image data."
   ]
  },
  {
   "cell_type": "code",
   "execution_count": 6,
   "metadata": {
    "button": false,
    "new_sheet": false,
    "run_control": {
     "read_only": false
    },
    "scrolled": true
   },
   "outputs": [
    {
     "data": {
      "text/plain": [
       "array([[[178, 175, 170],\n",
       "        [173, 170, 165],\n",
       "        [166, 163, 158],\n",
       "        ...,\n",
       "        [189, 186, 179],\n",
       "        [189, 186, 179],\n",
       "        [189, 186, 179]],\n",
       "\n",
       "       [[176, 173, 168],\n",
       "        [174, 171, 166],\n",
       "        [167, 164, 159],\n",
       "        ...,\n",
       "        [185, 182, 175],\n",
       "        [185, 182, 175],\n",
       "        [185, 182, 175]],\n",
       "\n",
       "       [[177, 174, 169],\n",
       "        [176, 173, 168],\n",
       "        [171, 168, 163],\n",
       "        ...,\n",
       "        [181, 178, 171],\n",
       "        [181, 178, 171],\n",
       "        [181, 178, 171]],\n",
       "\n",
       "       ...,\n",
       "\n",
       "       [[163, 159, 156],\n",
       "        [159, 155, 152],\n",
       "        [156, 152, 149],\n",
       "        ...,\n",
       "        [175, 171, 168],\n",
       "        [174, 170, 167],\n",
       "        [173, 169, 166]],\n",
       "\n",
       "       [[165, 161, 158],\n",
       "        [161, 157, 154],\n",
       "        [157, 153, 150],\n",
       "        ...,\n",
       "        [175, 171, 168],\n",
       "        [174, 170, 167],\n",
       "        [173, 169, 166]],\n",
       "\n",
       "       [[168, 164, 161],\n",
       "        [163, 159, 156],\n",
       "        [157, 153, 150],\n",
       "        ...,\n",
       "        [175, 171, 168],\n",
       "        [174, 170, 167],\n",
       "        [173, 169, 166]]], dtype=uint8)"
      ]
     },
     "execution_count": 6,
     "metadata": {},
     "output_type": "execute_result"
    }
   ],
   "source": [
    "image_data = plt.imread('C:/Users/Dennis/Desktop/AI Capstone Project with Deep Learning/Negative/{}'.format(image_name))\n",
    "image_data"
   ]
  },
  {
   "cell_type": "markdown",
   "metadata": {
    "button": false,
    "new_sheet": false,
    "run_control": {
     "read_only": false
    }
   },
   "source": [
    "### **Question**: What is the dimension of a single image according too **image_data**? "
   ]
  },
  {
   "cell_type": "code",
   "execution_count": 7,
   "metadata": {
    "button": false,
    "new_sheet": false,
    "run_control": {
     "read_only": false
    }
   },
   "outputs": [
    {
     "data": {
      "text/plain": [
       "3"
      ]
     },
     "execution_count": 7,
     "metadata": {},
     "output_type": "execute_result"
    }
   ],
   "source": [
    "## You can use this cell to type your code to answer the above question\n",
    "\n",
    "image_data.ndim"
   ]
  },
  {
   "cell_type": "markdown",
   "metadata": {
    "button": false,
    "new_sheet": false,
    "run_control": {
     "read_only": false
    }
   },
   "source": [
    "Let's view the image."
   ]
  },
  {
   "cell_type": "code",
   "execution_count": 8,
   "metadata": {
    "button": false,
    "new_sheet": false,
    "run_control": {
     "read_only": false
    }
   },
   "outputs": [
    {
     "data": {
      "text/plain": [
       "<matplotlib.image.AxesImage at 0x1e56703bbc8>"
      ]
     },
     "execution_count": 8,
     "metadata": {},
     "output_type": "execute_result"
    },
    {
     "data": {
      "image/png": "[encoded data removed]",
      "text/plain": [
       "<Figure size 432x288 with 1 Axes>"
      ]
     },
     "metadata": {
      "needs_background": "light"
     },
     "output_type": "display_data"
    }
   ],
   "source": [
    "plt.imshow(image_data)"
   ]
  },
  {
   "cell_type": "markdown",
   "metadata": {
    "button": false,
    "new_sheet": false,
    "run_control": {
     "read_only": false
    }
   },
   "source": [
    "### Question: Show the next four images."
   ]
  },
  {
   "cell_type": "code",
   "execution_count": 9,
   "metadata": {
    "button": false,
    "new_sheet": false,
    "run_control": {
     "read_only": false
    }
   },
   "outputs": [
    {
     "data": {
      "image/png": "[encoded data removed]",
      "text/plain": [
       "<PIL.JpegImagePlugin.JpegImageFile image mode=RGB size=227x227 at 0x1E5698EF448>"
      ]
     },
     "execution_count": 9,
     "metadata": {},
     "output_type": "execute_result"
    }
   ],
   "source": [
    "## You can use this cell to type your code to answer the above question\n",
    "Image.open('C:/Users/Dennis/Desktop/AI Capstone Project with Deep Learning/Negative/00002.jpg')"
   ]
  },
  {
   "cell_type": "code",
   "execution_count": 10,
   "metadata": {},
   "outputs": [
    {
     "data": {
      "image/png": "[encoded data removed]",
      "text/plain": [
       "<PIL.JpegImagePlugin.JpegImageFile image mode=RGB size=227x227 at 0x1E56A44BA88>"
      ]
     },
     "execution_count": 10,
     "metadata": {},
     "output_type": "execute_result"
    }
   ],
   "source": [
    "Image.open('C:/Users/Dennis/Desktop/AI Capstone Project with Deep Learning/Negative/00003.jpg')"
   ]
  },
  {
   "cell_type": "code",
   "execution_count": 11,
   "metadata": {},
   "outputs": [
    {
     "data": {
      "image/png": "[encoded data removed]",
      "text/plain": [
       "<PIL.JpegImagePlugin.JpegImageFile image mode=RGB size=227x227 at 0x1E5670750C8>"
      ]
     },
     "execution_count": 11,
     "metadata": {},
     "output_type": "execute_result"
    }
   ],
   "source": [
    "Image.open('C:/Users/Dennis/Desktop/AI Capstone Project with Deep Learning/Negative/00004.jpg')"
   ]
  },
  {
   "cell_type": "code",
   "execution_count": 12,
   "metadata": {},
   "outputs": [
    {
     "data": {
      "image/png": "[encoded data removed]",
      "text/plain": [
       "<PIL.JpegImagePlugin.JpegImageFile image mode=RGB size=227x227 at 0x1E56A43A0C8>"
      ]
     },
     "execution_count": 12,
     "metadata": {},
     "output_type": "execute_result"
    }
   ],
   "source": [
    "Image.open('C:/Users/Dennis/Desktop/AI Capstone Project with Deep Learning/Negative/00005.jpg')"
   ]
  },
  {
   "cell_type": "code",
   "execution_count": null,
   "metadata": {},
   "outputs": [],
   "source": []
  },
  {
   "cell_type": "markdown",
   "metadata": {
    "button": false,
    "new_sheet": false,
    "run_control": {
     "read_only": false
    }
   },
   "source": [
    "Now that we are familiar with the process of reading in an image data, let's loop through all the image in the *./Negative* directory and read them all in and save them in the list **negative_images**. We will also time it to see how long it takes to read in all the images."
   ]
  },
  {
   "cell_type": "code",
   "execution_count": 13,
   "metadata": {
    "button": false,
    "new_sheet": false,
    "run_control": {
     "read_only": false
    }
   },
   "outputs": [
    {
     "name": "stdout",
     "output_type": "stream",
     "text": [
      "Wall time: 31.6 s\n"
     ]
    }
   ],
   "source": [
    "%%time\n",
    "\n",
    "negative_images = []\n",
    "for file_name in negative_files:\n",
    "    if os.path.isfile(file_name):\n",
    "        image_name = str(file_name).split(\"'\")[1]\n",
    "        image_data = plt.imread('C:/Users/Dennis/Desktop/AI Capstone Project with Deep Learning/Negative/{}'.format(image_name))\n",
    "        negative_images.append(image_data)\n",
    "    \n",
    "negative_images = np.array(negative_images)"
   ]
  },
  {
   "cell_type": "markdown",
   "metadata": {
    "button": false,
    "new_sheet": false,
    "run_control": {
     "read_only": false
    }
   },
   "source": [
    "Oops! The kerned died due to an out-of-memory error. Since the kernel died, you may have to run the above cell to load the libraries and packages again.\n",
    "\n",
    "Loading images into memory is definitely not the right approach when working with images as you can hit your limit on memory and other resources fairly quickly. Therefore, let's repeat the previous process but let's save the paths to the images in a variable instead of loading and saving the images themselves."
   ]
  },
  {
   "cell_type": "markdown",
   "metadata": {
    "button": false,
    "new_sheet": false,
    "run_control": {
     "read_only": false
    }
   },
   "source": [
    "So instead of using **os.scandir**, we will use **os.listdir**."
   ]
  },
  {
   "cell_type": "code",
   "execution_count": 14,
   "metadata": {
    "button": false,
    "new_sheet": false,
    "run_control": {
     "read_only": false
    },
    "scrolled": true
   },
   "outputs": [
    {
     "data": {
      "text/plain": [
       "['00001.jpg',\n",
       " '00002.jpg',\n",
       " '00003.jpg',\n",
       " '00004.jpg',\n",
       " '00005.jpg',\n",
       " '00006.jpg',\n",
       " '00007.jpg',\n",
       " '00008.jpg',\n",
       " '00009.jpg',\n",
       " '00010.jpg',\n",
       " '00011.jpg',\n",
       " '00012.jpg',\n",
       " '00013.jpg',\n",
       " '00014.jpg',\n",
       " '00015.jpg',\n",
       " '00016.jpg',\n",
       " '00017.jpg',\n",
       " '00018.jpg',\n",
       " '00019.jpg',\n",
       " '00020.jpg',\n",
       " '00021.jpg',\n",
       " '00022.jpg',\n",
       " '00023.jpg',\n",
       " '00024.jpg',\n",
       " '00025.jpg',\n",
       " '00026.jpg',\n",
       " '00027.jpg',\n",
       " '00028.jpg',\n",
       " '00029.jpg',\n",
       " '00030.jpg',\n",
       " '00031.jpg',\n",
       " '00032.jpg',\n",
       " '00033.jpg',\n",
       " '00034.jpg',\n",
       " '00035.jpg',\n",
       " '00036.jpg',\n",
       " '00037.jpg',\n",
       " '00038.jpg',\n",
       " '00039.jpg',\n",
       " '00040.jpg',\n",
       " '00041.jpg',\n",
       " '00042.jpg',\n",
       " '00043.jpg',\n",
       " '00044.jpg',\n",
       " '00045.jpg',\n",
       " '00046.jpg',\n",
       " '00047.jpg',\n",
       " '00048.jpg',\n",
       " '00049.jpg',\n",
       " '00050.jpg',\n",
       " '00051.jpg',\n",
       " '00052.jpg',\n",
       " '00053.jpg',\n",
       " '00054.jpg',\n",
       " '00055.jpg',\n",
       " '00056.jpg',\n",
       " '00057.jpg',\n",
       " '00058.jpg',\n",
       " '00059.jpg',\n",
       " '00060.jpg',\n",
       " '00061.jpg',\n",
       " '00062.jpg',\n",
       " '00063.jpg',\n",
       " '00064.jpg',\n",
       " '00065.jpg',\n",
       " '00066.jpg',\n",
       " '00067.jpg',\n",
       " '00068.jpg',\n",
       " '00069.jpg',\n",
       " '00070.jpg',\n",
       " '00071.jpg',\n",
       " '00072.jpg',\n",
       " '00073.jpg',\n",
       " '00074.jpg',\n",
       " '00075.jpg',\n",
       " '00076.jpg',\n",
       " '00077.jpg',\n",
       " '00078.jpg',\n",
       " '00079.jpg',\n",
       " '00080.jpg',\n",
       " '00081.jpg',\n",
       " '00082.jpg',\n",
       " '00083.jpg',\n",
       " '00084.jpg',\n",
       " '00085.jpg',\n",
       " '00086.jpg',\n",
       " '00087.jpg',\n",
       " '00088.jpg',\n",
       " '00089.jpg',\n",
       " '00090.jpg',\n",
       " '00091.jpg',\n",
       " '00092.jpg',\n",
       " '00093.jpg',\n",
       " '00094.jpg',\n",
       " '00095.jpg',\n",
       " '00096.jpg',\n",
       " '00097.jpg',\n",
       " '00098.jpg',\n",
       " '00099.jpg',\n",
       " '00100.jpg',\n",
       " '00101.jpg',\n",
       " '00102.jpg',\n",
       " '00103.jpg',\n",
       " '00104.jpg',\n",
       " '00105.jpg',\n",
       " '00106.jpg',\n",
       " '00107.jpg',\n",
       " '00108.jpg',\n",
       " '00109.jpg',\n",
       " '00110.jpg',\n",
       " '00111.jpg',\n",
       " '00112.jpg',\n",
       " '00113.jpg',\n",
       " '00114.jpg',\n",
       " '00115.jpg',\n",
       " '00116.jpg',\n",
       " '00117.jpg',\n",
       " '00118.jpg',\n",
       " '00119.jpg',\n",
       " '00120.jpg',\n",
       " '00121.jpg',\n",
       " '00122.jpg',\n",
       " '00123.jpg',\n",
       " '00124.jpg',\n",
       " '00125.jpg',\n",
       " '00126.jpg',\n",
       " '00127.jpg',\n",
       " '00128.jpg',\n",
       " '00129.jpg',\n",
       " '00130.jpg',\n",
       " '00131.jpg',\n",
       " '00132.jpg',\n",
       " '00133.jpg',\n",
       " '00134.jpg',\n",
       " '00135.jpg',\n",
       " '00136.jpg',\n",
       " '00137.jpg',\n",
       " '00138.jpg',\n",
       " '00139.jpg',\n",
       " '00140.jpg',\n",
       " '00141.jpg',\n",
       " '00142.jpg',\n",
       " '00143.jpg',\n",
       " '00144.jpg',\n",
       " '00145.jpg',\n",
       " '00146.jpg',\n",
       " '00147.jpg',\n",
       " '00148.jpg',\n",
       " '00149.jpg',\n",
       " '00150.jpg',\n",
       " '00151.jpg',\n",
       " '00152.jpg',\n",
       " '00153.jpg',\n",
       " '00154.jpg',\n",
       " '00155.jpg',\n",
       " '00156.jpg',\n",
       " '00157.jpg',\n",
       " '00158.jpg',\n",
       " '00159.jpg',\n",
       " '00160.jpg',\n",
       " '00161.jpg',\n",
       " '00162.jpg',\n",
       " '00163.jpg',\n",
       " '00164.jpg',\n",
       " '00165.jpg',\n",
       " '00166.jpg',\n",
       " '00167.jpg',\n",
       " '00168.jpg',\n",
       " '00169.jpg',\n",
       " '00170.jpg',\n",
       " '00171.jpg',\n",
       " '00172.jpg',\n",
       " '00173.jpg',\n",
       " '00174.jpg',\n",
       " '00175.jpg',\n",
       " '00176.jpg',\n",
       " '00177.jpg',\n",
       " '00178.jpg',\n",
       " '00179.jpg',\n",
       " '00180.jpg',\n",
       " '00181.jpg',\n",
       " '00182.jpg',\n",
       " '00183.jpg',\n",
       " '00184.jpg',\n",
       " '00185.jpg',\n",
       " '00186.jpg',\n",
       " '00187.jpg',\n",
       " '00188.jpg',\n",
       " '00189.jpg',\n",
       " '00190.jpg',\n",
       " '00191.jpg',\n",
       " '00192.jpg',\n",
       " '00193.jpg',\n",
       " '00194.jpg',\n",
       " '00195.jpg',\n",
       " '00196.jpg',\n",
       " '00197.jpg',\n",
       " '00198.jpg',\n",
       " '00199.jpg',\n",
       " '00200.jpg',\n",
       " '00201.jpg',\n",
       " '00202.jpg',\n",
       " '00203.jpg',\n",
       " '00204.jpg',\n",
       " '00205.jpg',\n",
       " '00206.jpg',\n",
       " '00207.jpg',\n",
       " '00208.jpg',\n",
       " '00209.jpg',\n",
       " '00210.jpg',\n",
       " '00211.jpg',\n",
       " '00212.jpg',\n",
       " '00213.jpg',\n",
       " '00214.jpg',\n",
       " '00215.jpg',\n",
       " '00216.jpg',\n",
       " '00217.jpg',\n",
       " '00218.jpg',\n",
       " '00219.jpg',\n",
       " '00220.jpg',\n",
       " '00221.jpg',\n",
       " '00222.jpg',\n",
       " '00223.jpg',\n",
       " '00224.jpg',\n",
       " '00225.jpg',\n",
       " '00226.jpg',\n",
       " '00227.jpg',\n",
       " '00228.jpg',\n",
       " '00229.jpg',\n",
       " '00230.jpg',\n",
       " '00231.jpg',\n",
       " '00232.jpg',\n",
       " '00233.jpg',\n",
       " '00234.jpg',\n",
       " '00235.jpg',\n",
       " '00236.jpg',\n",
       " '00237.jpg',\n",
       " '00238.jpg',\n",
       " '00239.jpg',\n",
       " '00240.jpg',\n",
       " '00241.jpg',\n",
       " '00242.jpg',\n",
       " '00243.jpg',\n",
       " '00244.jpg',\n",
       " '00245.jpg',\n",
       " '00246.jpg',\n",
       " '00247.jpg',\n",
       " '00248.jpg',\n",
       " '00249.jpg',\n",
       " '00250.jpg',\n",
       " '00251.jpg',\n",
       " '00252.jpg',\n",
       " '00253.jpg',\n",
       " '00254.jpg',\n",
       " '00255.jpg',\n",
       " '00256.jpg',\n",
       " '00257.jpg',\n",
       " '00258.jpg',\n",
       " '00259.jpg',\n",
       " '00260.jpg',\n",
       " '00261.jpg',\n",
       " '00262.jpg',\n",
       " '00263.jpg',\n",
       " '00264.jpg',\n",
       " '00265.jpg',\n",
       " '00266.jpg',\n",
       " '00267.jpg',\n",
       " '00268.jpg',\n",
       " '00269.jpg',\n",
       " '00270.jpg',\n",
       " '00271.jpg',\n",
       " '00272.jpg',\n",
       " '00273.jpg',\n",
       " '00274.jpg',\n",
       " '00275.jpg',\n",
       " '00276.jpg',\n",
       " '00277.jpg',\n",
       " '00278.jpg',\n",
       " '00279.jpg',\n",
       " '00280.jpg',\n",
       " '00281.jpg',\n",
       " '00282.jpg',\n",
       " '00283.jpg',\n",
       " '00284.jpg',\n",
       " '00285.jpg',\n",
       " '00286.jpg',\n",
       " '00287.jpg',\n",
       " '00288.jpg',\n",
       " '00289.jpg',\n",
       " '00290.jpg',\n",
       " '00291.jpg',\n",
       " '00292.jpg',\n",
       " '00293.jpg',\n",
       " '00294.jpg',\n",
       " '00295.jpg',\n",
       " '00296.jpg',\n",
       " '00297.jpg',\n",
       " '00298.jpg',\n",
       " '00299.jpg',\n",
       " '00300.jpg',\n",
       " '00301.jpg',\n",
       " '00302.jpg',\n",
       " '00303.jpg',\n",
       " '00304.jpg',\n",
       " '00305.jpg',\n",
       " '00306.jpg',\n",
       " '00307.jpg',\n",
       " '00308.jpg',\n",
       " '00309.jpg',\n",
       " '00310.jpg',\n",
       " '00311.jpg',\n",
       " '00312.jpg',\n",
       " '00313.jpg',\n",
       " '00314.jpg',\n",
       " '00315.jpg',\n",
       " '00316.jpg',\n",
       " '00317.jpg',\n",
       " '00318.jpg',\n",
       " '00319.jpg',\n",
       " '00320.jpg',\n",
       " '00321.jpg',\n",
       " '00322.jpg',\n",
       " '00323.jpg',\n",
       " '00324.jpg',\n",
       " '00325.jpg',\n",
       " '00326.jpg',\n",
       " '00327.jpg',\n",
       " '00328.jpg',\n",
       " '00329.jpg',\n",
       " '00330.jpg',\n",
       " '00331.jpg',\n",
       " '00332.jpg',\n",
       " '00333.jpg',\n",
       " '00334.jpg',\n",
       " '00335.jpg',\n",
       " '00336.jpg',\n",
       " '00337.jpg',\n",
       " '00338.jpg',\n",
       " '00339.jpg',\n",
       " '00340.jpg',\n",
       " '00341.jpg',\n",
       " '00342.jpg',\n",
       " '00343.jpg',\n",
       " '00344.jpg',\n",
       " '00345.jpg',\n",
       " '00346.jpg',\n",
       " '00347.jpg',\n",
       " '00348.jpg',\n",
       " '00349.jpg',\n",
       " '00350.jpg',\n",
       " '00351.jpg',\n",
       " '00352.jpg',\n",
       " '00353.jpg',\n",
       " '00354.jpg',\n",
       " '00355.jpg',\n",
       " '00356.jpg',\n",
       " '00357.jpg',\n",
       " '00358.jpg',\n",
       " '00359.jpg',\n",
       " '00360.jpg',\n",
       " '00361.jpg',\n",
       " '00362.jpg',\n",
       " '00363.jpg',\n",
       " '00364.jpg',\n",
       " '00365.jpg',\n",
       " '00366.jpg',\n",
       " '00367.jpg',\n",
       " '00368.jpg',\n",
       " '00369.jpg',\n",
       " '00370.jpg',\n",
       " '00371.jpg',\n",
       " '00372.jpg',\n",
       " '00373.jpg',\n",
       " '00374.jpg',\n",
       " '00375.jpg',\n",
       " '00376.jpg',\n",
       " '00377.jpg',\n",
       " '00378.jpg',\n",
       " '00379.jpg',\n",
       " '00380.jpg',\n",
       " '00381.jpg',\n",
       " '00382.jpg',\n",
       " '00383.jpg',\n",
       " '00384.jpg',\n",
       " '00385.jpg',\n",
       " '00386.jpg',\n",
       " '00387.jpg',\n",
       " '00388.jpg',\n",
       " '00389.jpg',\n",
       " '00390.jpg',\n",
       " '00391.jpg',\n",
       " '00392.jpg',\n",
       " '00393.jpg',\n",
       " '00394.jpg',\n",
       " '00395.jpg',\n",
       " '00396.jpg',\n",
       " '00397.jpg',\n",
       " '00398.jpg',\n",
       " '00399.jpg',\n",
       " '00400.jpg',\n",
       " '00401.jpg',\n",
       " '00402.jpg',\n",
       " '00403.jpg',\n",
       " '00404.jpg',\n",
       " '00405.jpg',\n",
       " '00406.jpg',\n",
       " '00407.jpg',\n",
       " '00408.jpg',\n",
       " '00409.jpg',\n",
       " '00410.jpg',\n",
       " '00411.jpg',\n",
       " '00412.jpg',\n",
       " '00413.jpg',\n",
       " '00414.jpg',\n",
       " '00415.jpg',\n",
       " '00416.jpg',\n",
       " '00417.jpg',\n",
       " '00418.jpg',\n",
       " '00419.jpg',\n",
       " '00420.jpg',\n",
       " '00421.jpg',\n",
       " '00422.jpg',\n",
       " '00423.jpg',\n",
       " '00424.jpg',\n",
       " '00425.jpg',\n",
       " '00426.jpg',\n",
       " '00427.jpg',\n",
       " '00428.jpg',\n",
       " '00429.jpg',\n",
       " '00430.jpg',\n",
       " '00431.jpg',\n",
       " '00432.jpg',\n",
       " '00433.jpg',\n",
       " '00434.jpg',\n",
       " '00435.jpg',\n",
       " '00436.jpg',\n",
       " '00437.jpg',\n",
       " '00438.jpg',\n",
       " '00439.jpg',\n",
       " '00440.jpg',\n",
       " '00441.jpg',\n",
       " '00442.jpg',\n",
       " '00443.jpg',\n",
       " '00444.jpg',\n",
       " '00445.jpg',\n",
       " '00446.jpg',\n",
       " '00447.jpg',\n",
       " '00448.jpg',\n",
       " '00449.jpg',\n",
       " '00450.jpg',\n",
       " '00451.jpg',\n",
       " '00452.jpg',\n",
       " '00453.jpg',\n",
       " '00454.jpg',\n",
       " '00455.jpg',\n",
       " '00456.jpg',\n",
       " '00457.jpg',\n",
       " '00458.jpg',\n",
       " '00459.jpg',\n",
       " '00460.jpg',\n",
       " '00461.jpg',\n",
       " '00462.jpg',\n",
       " '00463.jpg',\n",
       " '00464.jpg',\n",
       " '00465.jpg',\n",
       " '00466.jpg',\n",
       " '00467.jpg',\n",
       " '00468.jpg',\n",
       " '00469.jpg',\n",
       " '00470.jpg',\n",
       " '00471.jpg',\n",
       " '00472.jpg',\n",
       " '00473.jpg',\n",
       " '00474.jpg',\n",
       " '00475.jpg',\n",
       " '00476.jpg',\n",
       " '00477.jpg',\n",
       " '00478.jpg',\n",
       " '00479.jpg',\n",
       " '00480.jpg',\n",
       " '00481.jpg',\n",
       " '00482.jpg',\n",
       " '00483.jpg',\n",
       " '00484.jpg',\n",
       " '00485.jpg',\n",
       " '00486.jpg',\n",
       " '00487.jpg',\n",
       " '00488.jpg',\n",
       " '00489.jpg',\n",
       " '00490.jpg',\n",
       " '00491.jpg',\n",
       " '00492.jpg',\n",
       " '00493.jpg',\n",
       " '00494.jpg',\n",
       " '00495.jpg',\n",
       " '00496.jpg',\n",
       " '00497.jpg',\n",
       " '00498.jpg',\n",
       " '00499.jpg',\n",
       " '00500.jpg',\n",
       " '00501.jpg',\n",
       " '00502.jpg',\n",
       " '00503.jpg',\n",
       " '00504.jpg',\n",
       " '00505.jpg',\n",
       " '00506.jpg',\n",
       " '00507.jpg',\n",
       " '00508.jpg',\n",
       " '00509.jpg',\n",
       " '00510.jpg',\n",
       " '00511.jpg',\n",
       " '00512.jpg',\n",
       " '00513.jpg',\n",
       " '00514.jpg',\n",
       " '00515.jpg',\n",
       " '00516.jpg',\n",
       " '00517.jpg',\n",
       " '00518.jpg',\n",
       " '00519.jpg',\n",
       " '00520.jpg',\n",
       " '00521.jpg',\n",
       " '00522.jpg',\n",
       " '00523.jpg',\n",
       " '00524.jpg',\n",
       " '00525.jpg',\n",
       " '00526.jpg',\n",
       " '00527.jpg',\n",
       " '00528.jpg',\n",
       " '00529.jpg',\n",
       " '00530.jpg',\n",
       " '00531.jpg',\n",
       " '00532.jpg',\n",
       " '00533.jpg',\n",
       " '00534.jpg',\n",
       " '00535.jpg',\n",
       " '00536.jpg',\n",
       " '00537.jpg',\n",
       " '00538.jpg',\n",
       " '00539.jpg',\n",
       " '00540.jpg',\n",
       " '00541.jpg',\n",
       " '00542.jpg',\n",
       " '00543.jpg',\n",
       " '00544.jpg',\n",
       " '00545.jpg',\n",
       " '00546.jpg',\n",
       " '00547.jpg',\n",
       " '00548.jpg',\n",
       " '00549.jpg',\n",
       " '00550.jpg',\n",
       " '00551.jpg',\n",
       " '00552.jpg',\n",
       " '00553.jpg',\n",
       " '00554.jpg',\n",
       " '00555.jpg',\n",
       " '00556.jpg',\n",
       " '00557.jpg',\n",
       " '00558.jpg',\n",
       " '00559.jpg',\n",
       " '00560.jpg',\n",
       " '00561.jpg',\n",
       " '00562.jpg',\n",
       " '00563.jpg',\n",
       " '00564.jpg',\n",
       " '00565.jpg',\n",
       " '00566.jpg',\n",
       " '00567.jpg',\n",
       " '00568.jpg',\n",
       " '00569.jpg',\n",
       " '00570.jpg',\n",
       " '00571.jpg',\n",
       " '00572.jpg',\n",
       " '00573.jpg',\n",
       " '00574.jpg',\n",
       " '00575.jpg',\n",
       " '00576.jpg',\n",
       " '00577.jpg',\n",
       " '00578.jpg',\n",
       " '00579.jpg',\n",
       " '00580.jpg',\n",
       " '00581.jpg',\n",
       " '00582.jpg',\n",
       " '00583.jpg',\n",
       " '00584.jpg',\n",
       " '00585.jpg',\n",
       " '00586.jpg',\n",
       " '00587.jpg',\n",
       " '00588.jpg',\n",
       " '00589.jpg',\n",
       " '00590.jpg',\n",
       " '00591.jpg',\n",
       " '00592.jpg',\n",
       " '00593.jpg',\n",
       " '00594.jpg',\n",
       " '00595.jpg',\n",
       " '00596.jpg',\n",
       " '00597.jpg',\n",
       " '00598.jpg',\n",
       " '00599.jpg',\n",
       " '00600.jpg',\n",
       " '00601.jpg',\n",
       " '00602.jpg',\n",
       " '00603.jpg',\n",
       " '00604.jpg',\n",
       " '00605.jpg',\n",
       " '00606.jpg',\n",
       " '00607.jpg',\n",
       " '00608.jpg',\n",
       " '00609.jpg',\n",
       " '00610.jpg',\n",
       " '00611.jpg',\n",
       " '00612.jpg',\n",
       " '00613.jpg',\n",
       " '00614.jpg',\n",
       " '00615.jpg',\n",
       " '00616.jpg',\n",
       " '00617.jpg',\n",
       " '00618.jpg',\n",
       " '00619.jpg',\n",
       " '00620.jpg',\n",
       " '00621.jpg',\n",
       " '00622.jpg',\n",
       " '00623.jpg',\n",
       " '00624.jpg',\n",
       " '00625.jpg',\n",
       " '00626.jpg',\n",
       " '00627.jpg',\n",
       " '00628.jpg',\n",
       " '00629.jpg',\n",
       " '00630.jpg',\n",
       " '00631.jpg',\n",
       " '00632.jpg',\n",
       " '00633.jpg',\n",
       " '00634.jpg',\n",
       " '00635.jpg',\n",
       " '00636.jpg',\n",
       " '00637.jpg',\n",
       " '00638.jpg',\n",
       " '00639.jpg',\n",
       " '00640.jpg',\n",
       " '00641.jpg',\n",
       " '00642.jpg',\n",
       " '00643.jpg',\n",
       " '00644.jpg',\n",
       " '00645.jpg',\n",
       " '00646.jpg',\n",
       " '00647.jpg',\n",
       " '00648.jpg',\n",
       " '00649.jpg',\n",
       " '00650.jpg',\n",
       " '00651.jpg',\n",
       " '00652.jpg',\n",
       " '00653.jpg',\n",
       " '00654.jpg',\n",
       " '00655.jpg',\n",
       " '00656.jpg',\n",
       " '00657.jpg',\n",
       " '00658.jpg',\n",
       " '00659.jpg',\n",
       " '00660.jpg',\n",
       " '00661.jpg',\n",
       " '00662.jpg',\n",
       " '00663.jpg',\n",
       " '00664.jpg',\n",
       " '00665.jpg',\n",
       " '00666.jpg',\n",
       " '00667.jpg',\n",
       " '00668.jpg',\n",
       " '00669.jpg',\n",
       " '00670.jpg',\n",
       " '00671.jpg',\n",
       " '00672.jpg',\n",
       " '00673.jpg',\n",
       " '00674.jpg',\n",
       " '00675.jpg',\n",
       " '00676.jpg',\n",
       " '00677.jpg',\n",
       " '00678.jpg',\n",
       " '00679.jpg',\n",
       " '00680.jpg',\n",
       " '00681.jpg',\n",
       " '00682.jpg',\n",
       " '00683.jpg',\n",
       " '00684.jpg',\n",
       " '00685.jpg',\n",
       " '00686.jpg',\n",
       " '00687.jpg',\n",
       " '00688.jpg',\n",
       " '00689.jpg',\n",
       " '00690.jpg',\n",
       " '00691.jpg',\n",
       " '00692.jpg',\n",
       " '00693.jpg',\n",
       " '00694.jpg',\n",
       " '00695.jpg',\n",
       " '00696.jpg',\n",
       " '00697.jpg',\n",
       " '00698.jpg',\n",
       " '00699.jpg',\n",
       " '00700.jpg',\n",
       " '00701.jpg',\n",
       " '00702.jpg',\n",
       " '00703.jpg',\n",
       " '00704.jpg',\n",
       " '00705.jpg',\n",
       " '00706.jpg',\n",
       " '00707.jpg',\n",
       " '00708.jpg',\n",
       " '00709.jpg',\n",
       " '00710.jpg',\n",
       " '00711.jpg',\n",
       " '00712.jpg',\n",
       " '00713.jpg',\n",
       " '00714.jpg',\n",
       " '00715.jpg',\n",
       " '00716.jpg',\n",
       " '00717.jpg',\n",
       " '00718.jpg',\n",
       " '00719.jpg',\n",
       " '00720.jpg',\n",
       " '00721.jpg',\n",
       " '00722.jpg',\n",
       " '00723.jpg',\n",
       " '00724.jpg',\n",
       " '00725.jpg',\n",
       " '00726.jpg',\n",
       " '00727.jpg',\n",
       " '00728.jpg',\n",
       " '00729.jpg',\n",
       " '00730.jpg',\n",
       " '00731.jpg',\n",
       " '00732.jpg',\n",
       " '00733.jpg',\n",
       " '00734.jpg',\n",
       " '00735.jpg',\n",
       " '00736.jpg',\n",
       " '00737.jpg',\n",
       " '00738.jpg',\n",
       " '00739.jpg',\n",
       " '00740.jpg',\n",
       " '00741.jpg',\n",
       " '00742.jpg',\n",
       " '00743.jpg',\n",
       " '00744.jpg',\n",
       " '00745.jpg',\n",
       " '00746.jpg',\n",
       " '00747.jpg',\n",
       " '00748.jpg',\n",
       " '00749.jpg',\n",
       " '00750.jpg',\n",
       " '00751.jpg',\n",
       " '00752.jpg',\n",
       " '00753.jpg',\n",
       " '00754.jpg',\n",
       " '00755.jpg',\n",
       " '00756.jpg',\n",
       " '00757.jpg',\n",
       " '00758.jpg',\n",
       " '00759.jpg',\n",
       " '00760.jpg',\n",
       " '00761.jpg',\n",
       " '00762.jpg',\n",
       " '00763.jpg',\n",
       " '00764.jpg',\n",
       " '00765.jpg',\n",
       " '00766.jpg',\n",
       " '00767.jpg',\n",
       " '00768.jpg',\n",
       " '00769.jpg',\n",
       " '00770.jpg',\n",
       " '00771.jpg',\n",
       " '00772.jpg',\n",
       " '00773.jpg',\n",
       " '00774.jpg',\n",
       " '00775.jpg',\n",
       " '00776.jpg',\n",
       " '00777.jpg',\n",
       " '00778.jpg',\n",
       " '00779.jpg',\n",
       " '00780.jpg',\n",
       " '00781.jpg',\n",
       " '00782.jpg',\n",
       " '00783.jpg',\n",
       " '00784.jpg',\n",
       " '00785.jpg',\n",
       " '00786.jpg',\n",
       " '00787.jpg',\n",
       " '00788.jpg',\n",
       " '00789.jpg',\n",
       " '00790.jpg',\n",
       " '00791.jpg',\n",
       " '00792.jpg',\n",
       " '00793.jpg',\n",
       " '00794.jpg',\n",
       " '00795.jpg',\n",
       " '00796.jpg',\n",
       " '00797.jpg',\n",
       " '00798.jpg',\n",
       " '00799.jpg',\n",
       " '00800.jpg',\n",
       " '00801.jpg',\n",
       " '00802.jpg',\n",
       " '00803.jpg',\n",
       " '00804.jpg',\n",
       " '00805.jpg',\n",
       " '00806.jpg',\n",
       " '00807.jpg',\n",
       " '00808.jpg',\n",
       " '00809.jpg',\n",
       " '00810.jpg',\n",
       " '00811.jpg',\n",
       " '00812.jpg',\n",
       " '00813.jpg',\n",
       " '00814.jpg',\n",
       " '00815.jpg',\n",
       " '00816.jpg',\n",
       " '00817.jpg',\n",
       " '00818.jpg',\n",
       " '00819.jpg',\n",
       " '00820.jpg',\n",
       " '00821.jpg',\n",
       " '00822.jpg',\n",
       " '00823.jpg',\n",
       " '00824.jpg',\n",
       " '00825.jpg',\n",
       " '00826.jpg',\n",
       " '00827.jpg',\n",
       " '00828.jpg',\n",
       " '00829.jpg',\n",
       " '00830.jpg',\n",
       " '00831.jpg',\n",
       " '00832.jpg',\n",
       " '00833.jpg',\n",
       " '00834.jpg',\n",
       " '00835.jpg',\n",
       " '00836.jpg',\n",
       " '00837.jpg',\n",
       " '00838.jpg',\n",
       " '00839.jpg',\n",
       " '00840.jpg',\n",
       " '00841.jpg',\n",
       " '00842.jpg',\n",
       " '00843.jpg',\n",
       " '00844.jpg',\n",
       " '00845.jpg',\n",
       " '00846.jpg',\n",
       " '00847.jpg',\n",
       " '00848.jpg',\n",
       " '00849.jpg',\n",
       " '00850.jpg',\n",
       " '00851.jpg',\n",
       " '00852.jpg',\n",
       " '00853.jpg',\n",
       " '00854.jpg',\n",
       " '00855.jpg',\n",
       " '00856.jpg',\n",
       " '00857.jpg',\n",
       " '00858.jpg',\n",
       " '00859.jpg',\n",
       " '00860.jpg',\n",
       " '00861.jpg',\n",
       " '00862.jpg',\n",
       " '00863.jpg',\n",
       " '00864.jpg',\n",
       " '00865.jpg',\n",
       " '00866.jpg',\n",
       " '00867.jpg',\n",
       " '00868.jpg',\n",
       " '00869.jpg',\n",
       " '00870.jpg',\n",
       " '00871.jpg',\n",
       " '00872.jpg',\n",
       " '00873.jpg',\n",
       " '00874.jpg',\n",
       " '00875.jpg',\n",
       " '00876.jpg',\n",
       " '00877.jpg',\n",
       " '00878.jpg',\n",
       " '00879.jpg',\n",
       " '00880.jpg',\n",
       " '00881.jpg',\n",
       " '00882.jpg',\n",
       " '00883.jpg',\n",
       " '00884.jpg',\n",
       " '00885.jpg',\n",
       " '00886.jpg',\n",
       " '00887.jpg',\n",
       " '00888.jpg',\n",
       " '00889.jpg',\n",
       " '00890.jpg',\n",
       " '00891.jpg',\n",
       " '00892.jpg',\n",
       " '00893.jpg',\n",
       " '00894.jpg',\n",
       " '00895.jpg',\n",
       " '00896.jpg',\n",
       " '00897.jpg',\n",
       " '00898.jpg',\n",
       " '00899.jpg',\n",
       " '00900.jpg',\n",
       " '00901.jpg',\n",
       " '00902.jpg',\n",
       " '00903.jpg',\n",
       " '00904.jpg',\n",
       " '00905.jpg',\n",
       " '00906.jpg',\n",
       " '00907.jpg',\n",
       " '00908.jpg',\n",
       " '00909.jpg',\n",
       " '00910.jpg',\n",
       " '00911.jpg',\n",
       " '00912.jpg',\n",
       " '00913.jpg',\n",
       " '00914.jpg',\n",
       " '00915.jpg',\n",
       " '00916.jpg',\n",
       " '00917.jpg',\n",
       " '00918.jpg',\n",
       " '00919.jpg',\n",
       " '00920.jpg',\n",
       " '00921.jpg',\n",
       " '00922.jpg',\n",
       " '00923.jpg',\n",
       " '00924.jpg',\n",
       " '00925.jpg',\n",
       " '00926.jpg',\n",
       " '00927.jpg',\n",
       " '00928.jpg',\n",
       " '00929.jpg',\n",
       " '00930.jpg',\n",
       " '00931.jpg',\n",
       " '00932.jpg',\n",
       " '00933.jpg',\n",
       " '00934.jpg',\n",
       " '00935.jpg',\n",
       " '00936.jpg',\n",
       " '00937.jpg',\n",
       " '00938.jpg',\n",
       " '00939.jpg',\n",
       " '00940.jpg',\n",
       " '00941.jpg',\n",
       " '00942.jpg',\n",
       " '00943.jpg',\n",
       " '00944.jpg',\n",
       " '00945.jpg',\n",
       " '00946.jpg',\n",
       " '00947.jpg',\n",
       " '00948.jpg',\n",
       " '00949.jpg',\n",
       " '00950.jpg',\n",
       " '00951.jpg',\n",
       " '00952.jpg',\n",
       " '00953.jpg',\n",
       " '00954.jpg',\n",
       " '00955.jpg',\n",
       " '00956.jpg',\n",
       " '00957.jpg',\n",
       " '00958.jpg',\n",
       " '00959.jpg',\n",
       " '00960.jpg',\n",
       " '00961.jpg',\n",
       " '00962.jpg',\n",
       " '00963.jpg',\n",
       " '00964.jpg',\n",
       " '00965.jpg',\n",
       " '00966.jpg',\n",
       " '00967.jpg',\n",
       " '00968.jpg',\n",
       " '00969.jpg',\n",
       " '00970.jpg',\n",
       " '00971.jpg',\n",
       " '00972.jpg',\n",
       " '00973.jpg',\n",
       " '00974.jpg',\n",
       " '00975.jpg',\n",
       " '00976.jpg',\n",
       " '00977.jpg',\n",
       " '00978.jpg',\n",
       " '00979.jpg',\n",
       " '00980.jpg',\n",
       " '00981.jpg',\n",
       " '00982.jpg',\n",
       " '00983.jpg',\n",
       " '00984.jpg',\n",
       " '00985.jpg',\n",
       " '00986.jpg',\n",
       " '00987.jpg',\n",
       " '00988.jpg',\n",
       " '00989.jpg',\n",
       " '00990.jpg',\n",
       " '00991.jpg',\n",
       " '00992.jpg',\n",
       " '00993.jpg',\n",
       " '00994.jpg',\n",
       " '00995.jpg',\n",
       " '00996.jpg',\n",
       " '00997.jpg',\n",
       " '00998.jpg',\n",
       " '00999.jpg',\n",
       " '01000.jpg',\n",
       " ...]"
      ]
     },
     "execution_count": 14,
     "metadata": {},
     "output_type": "execute_result"
    }
   ],
   "source": [
    "negative_images = os.listdir('./Negative')\n",
    "negative_images"
   ]
  },
  {
   "cell_type": "markdown",
   "metadata": {
    "button": false,
    "new_sheet": false,
    "run_control": {
     "read_only": false
    }
   },
   "source": [
    "Notice how the images are not sorted, so let's call the <code>sort</code> method to sort the images."
   ]
  },
  {
   "cell_type": "code",
   "execution_count": 15,
   "metadata": {
    "button": false,
    "new_sheet": false,
    "run_control": {
     "read_only": false
    },
    "scrolled": true
   },
   "outputs": [
    {
     "data": {
      "text/plain": [
       "['00001.jpg',\n",
       " '00002.jpg',\n",
       " '00003.jpg',\n",
       " '00004.jpg',\n",
       " '00005.jpg',\n",
       " '00006.jpg',\n",
       " '00007.jpg',\n",
       " '00008.jpg',\n",
       " '00009.jpg',\n",
       " '00010.jpg',\n",
       " '00011.jpg',\n",
       " '00012.jpg',\n",
       " '00013.jpg',\n",
       " '00014.jpg',\n",
       " '00015.jpg',\n",
       " '00016.jpg',\n",
       " '00017.jpg',\n",
       " '00018.jpg',\n",
       " '00019.jpg',\n",
       " '00020.jpg',\n",
       " '00021.jpg',\n",
       " '00022.jpg',\n",
       " '00023.jpg',\n",
       " '00024.jpg',\n",
       " '00025.jpg',\n",
       " '00026.jpg',\n",
       " '00027.jpg',\n",
       " '00028.jpg',\n",
       " '00029.jpg',\n",
       " '00030.jpg',\n",
       " '00031.jpg',\n",
       " '00032.jpg',\n",
       " '00033.jpg',\n",
       " '00034.jpg',\n",
       " '00035.jpg',\n",
       " '00036.jpg',\n",
       " '00037.jpg',\n",
       " '00038.jpg',\n",
       " '00039.jpg',\n",
       " '00040.jpg',\n",
       " '00041.jpg',\n",
       " '00042.jpg',\n",
       " '00043.jpg',\n",
       " '00044.jpg',\n",
       " '00045.jpg',\n",
       " '00046.jpg',\n",
       " '00047.jpg',\n",
       " '00048.jpg',\n",
       " '00049.jpg',\n",
       " '00050.jpg',\n",
       " '00051.jpg',\n",
       " '00052.jpg',\n",
       " '00053.jpg',\n",
       " '00054.jpg',\n",
       " '00055.jpg',\n",
       " '00056.jpg',\n",
       " '00057.jpg',\n",
       " '00058.jpg',\n",
       " '00059.jpg',\n",
       " '00060.jpg',\n",
       " '00061.jpg',\n",
       " '00062.jpg',\n",
       " '00063.jpg',\n",
       " '00064.jpg',\n",
       " '00065.jpg',\n",
       " '00066.jpg',\n",
       " '00067.jpg',\n",
       " '00068.jpg',\n",
       " '00069.jpg',\n",
       " '00070.jpg',\n",
       " '00071.jpg',\n",
       " '00072.jpg',\n",
       " '00073.jpg',\n",
       " '00074.jpg',\n",
       " '00075.jpg',\n",
       " '00076.jpg',\n",
       " '00077.jpg',\n",
       " '00078.jpg',\n",
       " '00079.jpg',\n",
       " '00080.jpg',\n",
       " '00081.jpg',\n",
       " '00082.jpg',\n",
       " '00083.jpg',\n",
       " '00084.jpg',\n",
       " '00085.jpg',\n",
       " '00086.jpg',\n",
       " '00087.jpg',\n",
       " '00088.jpg',\n",
       " '00089.jpg',\n",
       " '00090.jpg',\n",
       " '00091.jpg',\n",
       " '00092.jpg',\n",
       " '00093.jpg',\n",
       " '00094.jpg',\n",
       " '00095.jpg',\n",
       " '00096.jpg',\n",
       " '00097.jpg',\n",
       " '00098.jpg',\n",
       " '00099.jpg',\n",
       " '00100.jpg',\n",
       " '00101.jpg',\n",
       " '00102.jpg',\n",
       " '00103.jpg',\n",
       " '00104.jpg',\n",
       " '00105.jpg',\n",
       " '00106.jpg',\n",
       " '00107.jpg',\n",
       " '00108.jpg',\n",
       " '00109.jpg',\n",
       " '00110.jpg',\n",
       " '00111.jpg',\n",
       " '00112.jpg',\n",
       " '00113.jpg',\n",
       " '00114.jpg',\n",
       " '00115.jpg',\n",
       " '00116.jpg',\n",
       " '00117.jpg',\n",
       " '00118.jpg',\n",
       " '00119.jpg',\n",
       " '00120.jpg',\n",
       " '00121.jpg',\n",
       " '00122.jpg',\n",
       " '00123.jpg',\n",
       " '00124.jpg',\n",
       " '00125.jpg',\n",
       " '00126.jpg',\n",
       " '00127.jpg',\n",
       " '00128.jpg',\n",
       " '00129.jpg',\n",
       " '00130.jpg',\n",
       " '00131.jpg',\n",
       " '00132.jpg',\n",
       " '00133.jpg',\n",
       " '00134.jpg',\n",
       " '00135.jpg',\n",
       " '00136.jpg',\n",
       " '00137.jpg',\n",
       " '00138.jpg',\n",
       " '00139.jpg',\n",
       " '00140.jpg',\n",
       " '00141.jpg',\n",
       " '00142.jpg',\n",
       " '00143.jpg',\n",
       " '00144.jpg',\n",
       " '00145.jpg',\n",
       " '00146.jpg',\n",
       " '00147.jpg',\n",
       " '00148.jpg',\n",
       " '00149.jpg',\n",
       " '00150.jpg',\n",
       " '00151.jpg',\n",
       " '00152.jpg',\n",
       " '00153.jpg',\n",
       " '00154.jpg',\n",
       " '00155.jpg',\n",
       " '00156.jpg',\n",
       " '00157.jpg',\n",
       " '00158.jpg',\n",
       " '00159.jpg',\n",
       " '00160.jpg',\n",
       " '00161.jpg',\n",
       " '00162.jpg',\n",
       " '00163.jpg',\n",
       " '00164.jpg',\n",
       " '00165.jpg',\n",
       " '00166.jpg',\n",
       " '00167.jpg',\n",
       " '00168.jpg',\n",
       " '00169.jpg',\n",
       " '00170.jpg',\n",
       " '00171.jpg',\n",
       " '00172.jpg',\n",
       " '00173.jpg',\n",
       " '00174.jpg',\n",
       " '00175.jpg',\n",
       " '00176.jpg',\n",
       " '00177.jpg',\n",
       " '00178.jpg',\n",
       " '00179.jpg',\n",
       " '00180.jpg',\n",
       " '00181.jpg',\n",
       " '00182.jpg',\n",
       " '00183.jpg',\n",
       " '00184.jpg',\n",
       " '00185.jpg',\n",
       " '00186.jpg',\n",
       " '00187.jpg',\n",
       " '00188.jpg',\n",
       " '00189.jpg',\n",
       " '00190.jpg',\n",
       " '00191.jpg',\n",
       " '00192.jpg',\n",
       " '00193.jpg',\n",
       " '00194.jpg',\n",
       " '00195.jpg',\n",
       " '00196.jpg',\n",
       " '00197.jpg',\n",
       " '00198.jpg',\n",
       " '00199.jpg',\n",
       " '00200.jpg',\n",
       " '00201.jpg',\n",
       " '00202.jpg',\n",
       " '00203.jpg',\n",
       " '00204.jpg',\n",
       " '00205.jpg',\n",
       " '00206.jpg',\n",
       " '00207.jpg',\n",
       " '00208.jpg',\n",
       " '00209.jpg',\n",
       " '00210.jpg',\n",
       " '00211.jpg',\n",
       " '00212.jpg',\n",
       " '00213.jpg',\n",
       " '00214.jpg',\n",
       " '00215.jpg',\n",
       " '00216.jpg',\n",
       " '00217.jpg',\n",
       " '00218.jpg',\n",
       " '00219.jpg',\n",
       " '00220.jpg',\n",
       " '00221.jpg',\n",
       " '00222.jpg',\n",
       " '00223.jpg',\n",
       " '00224.jpg',\n",
       " '00225.jpg',\n",
       " '00226.jpg',\n",
       " '00227.jpg',\n",
       " '00228.jpg',\n",
       " '00229.jpg',\n",
       " '00230.jpg',\n",
       " '00231.jpg',\n",
       " '00232.jpg',\n",
       " '00233.jpg',\n",
       " '00234.jpg',\n",
       " '00235.jpg',\n",
       " '00236.jpg',\n",
       " '00237.jpg',\n",
       " '00238.jpg',\n",
       " '00239.jpg',\n",
       " '00240.jpg',\n",
       " '00241.jpg',\n",
       " '00242.jpg',\n",
       " '00243.jpg',\n",
       " '00244.jpg',\n",
       " '00245.jpg',\n",
       " '00246.jpg',\n",
       " '00247.jpg',\n",
       " '00248.jpg',\n",
       " '00249.jpg',\n",
       " '00250.jpg',\n",
       " '00251.jpg',\n",
       " '00252.jpg',\n",
       " '00253.jpg',\n",
       " '00254.jpg',\n",
       " '00255.jpg',\n",
       " '00256.jpg',\n",
       " '00257.jpg',\n",
       " '00258.jpg',\n",
       " '00259.jpg',\n",
       " '00260.jpg',\n",
       " '00261.jpg',\n",
       " '00262.jpg',\n",
       " '00263.jpg',\n",
       " '00264.jpg',\n",
       " '00265.jpg',\n",
       " '00266.jpg',\n",
       " '00267.jpg',\n",
       " '00268.jpg',\n",
       " '00269.jpg',\n",
       " '00270.jpg',\n",
       " '00271.jpg',\n",
       " '00272.jpg',\n",
       " '00273.jpg',\n",
       " '00274.jpg',\n",
       " '00275.jpg',\n",
       " '00276.jpg',\n",
       " '00277.jpg',\n",
       " '00278.jpg',\n",
       " '00279.jpg',\n",
       " '00280.jpg',\n",
       " '00281.jpg',\n",
       " '00282.jpg',\n",
       " '00283.jpg',\n",
       " '00284.jpg',\n",
       " '00285.jpg',\n",
       " '00286.jpg',\n",
       " '00287.jpg',\n",
       " '00288.jpg',\n",
       " '00289.jpg',\n",
       " '00290.jpg',\n",
       " '00291.jpg',\n",
       " '00292.jpg',\n",
       " '00293.jpg',\n",
       " '00294.jpg',\n",
       " '00295.jpg',\n",
       " '00296.jpg',\n",
       " '00297.jpg',\n",
       " '00298.jpg',\n",
       " '00299.jpg',\n",
       " '00300.jpg',\n",
       " '00301.jpg',\n",
       " '00302.jpg',\n",
       " '00303.jpg',\n",
       " '00304.jpg',\n",
       " '00305.jpg',\n",
       " '00306.jpg',\n",
       " '00307.jpg',\n",
       " '00308.jpg',\n",
       " '00309.jpg',\n",
       " '00310.jpg',\n",
       " '00311.jpg',\n",
       " '00312.jpg',\n",
       " '00313.jpg',\n",
       " '00314.jpg',\n",
       " '00315.jpg',\n",
       " '00316.jpg',\n",
       " '00317.jpg',\n",
       " '00318.jpg',\n",
       " '00319.jpg',\n",
       " '00320.jpg',\n",
       " '00321.jpg',\n",
       " '00322.jpg',\n",
       " '00323.jpg',\n",
       " '00324.jpg',\n",
       " '00325.jpg',\n",
       " '00326.jpg',\n",
       " '00327.jpg',\n",
       " '00328.jpg',\n",
       " '00329.jpg',\n",
       " '00330.jpg',\n",
       " '00331.jpg',\n",
       " '00332.jpg',\n",
       " '00333.jpg',\n",
       " '00334.jpg',\n",
       " '00335.jpg',\n",
       " '00336.jpg',\n",
       " '00337.jpg',\n",
       " '00338.jpg',\n",
       " '00339.jpg',\n",
       " '00340.jpg',\n",
       " '00341.jpg',\n",
       " '00342.jpg',\n",
       " '00343.jpg',\n",
       " '00344.jpg',\n",
       " '00345.jpg',\n",
       " '00346.jpg',\n",
       " '00347.jpg',\n",
       " '00348.jpg',\n",
       " '00349.jpg',\n",
       " '00350.jpg',\n",
       " '00351.jpg',\n",
       " '00352.jpg',\n",
       " '00353.jpg',\n",
       " '00354.jpg',\n",
       " '00355.jpg',\n",
       " '00356.jpg',\n",
       " '00357.jpg',\n",
       " '00358.jpg',\n",
       " '00359.jpg',\n",
       " '00360.jpg',\n",
       " '00361.jpg',\n",
       " '00362.jpg',\n",
       " '00363.jpg',\n",
       " '00364.jpg',\n",
       " '00365.jpg',\n",
       " '00366.jpg',\n",
       " '00367.jpg',\n",
       " '00368.jpg',\n",
       " '00369.jpg',\n",
       " '00370.jpg',\n",
       " '00371.jpg',\n",
       " '00372.jpg',\n",
       " '00373.jpg',\n",
       " '00374.jpg',\n",
       " '00375.jpg',\n",
       " '00376.jpg',\n",
       " '00377.jpg',\n",
       " '00378.jpg',\n",
       " '00379.jpg',\n",
       " '00380.jpg',\n",
       " '00381.jpg',\n",
       " '00382.jpg',\n",
       " '00383.jpg',\n",
       " '00384.jpg',\n",
       " '00385.jpg',\n",
       " '00386.jpg',\n",
       " '00387.jpg',\n",
       " '00388.jpg',\n",
       " '00389.jpg',\n",
       " '00390.jpg',\n",
       " '00391.jpg',\n",
       " '00392.jpg',\n",
       " '00393.jpg',\n",
       " '00394.jpg',\n",
       " '00395.jpg',\n",
       " '00396.jpg',\n",
       " '00397.jpg',\n",
       " '00398.jpg',\n",
       " '00399.jpg',\n",
       " '00400.jpg',\n",
       " '00401.jpg',\n",
       " '00402.jpg',\n",
       " '00403.jpg',\n",
       " '00404.jpg',\n",
       " '00405.jpg',\n",
       " '00406.jpg',\n",
       " '00407.jpg',\n",
       " '00408.jpg',\n",
       " '00409.jpg',\n",
       " '00410.jpg',\n",
       " '00411.jpg',\n",
       " '00412.jpg',\n",
       " '00413.jpg',\n",
       " '00414.jpg',\n",
       " '00415.jpg',\n",
       " '00416.jpg',\n",
       " '00417.jpg',\n",
       " '00418.jpg',\n",
       " '00419.jpg',\n",
       " '00420.jpg',\n",
       " '00421.jpg',\n",
       " '00422.jpg',\n",
       " '00423.jpg',\n",
       " '00424.jpg',\n",
       " '00425.jpg',\n",
       " '00426.jpg',\n",
       " '00427.jpg',\n",
       " '00428.jpg',\n",
       " '00429.jpg',\n",
       " '00430.jpg',\n",
       " '00431.jpg',\n",
       " '00432.jpg',\n",
       " '00433.jpg',\n",
       " '00434.jpg',\n",
       " '00435.jpg',\n",
       " '00436.jpg',\n",
       " '00437.jpg',\n",
       " '00438.jpg',\n",
       " '00439.jpg',\n",
       " '00440.jpg',\n",
       " '00441.jpg',\n",
       " '00442.jpg',\n",
       " '00443.jpg',\n",
       " '00444.jpg',\n",
       " '00445.jpg',\n",
       " '00446.jpg',\n",
       " '00447.jpg',\n",
       " '00448.jpg',\n",
       " '00449.jpg',\n",
       " '00450.jpg',\n",
       " '00451.jpg',\n",
       " '00452.jpg',\n",
       " '00453.jpg',\n",
       " '00454.jpg',\n",
       " '00455.jpg',\n",
       " '00456.jpg',\n",
       " '00457.jpg',\n",
       " '00458.jpg',\n",
       " '00459.jpg',\n",
       " '00460.jpg',\n",
       " '00461.jpg',\n",
       " '00462.jpg',\n",
       " '00463.jpg',\n",
       " '00464.jpg',\n",
       " '00465.jpg',\n",
       " '00466.jpg',\n",
       " '00467.jpg',\n",
       " '00468.jpg',\n",
       " '00469.jpg',\n",
       " '00470.jpg',\n",
       " '00471.jpg',\n",
       " '00472.jpg',\n",
       " '00473.jpg',\n",
       " '00474.jpg',\n",
       " '00475.jpg',\n",
       " '00476.jpg',\n",
       " '00477.jpg',\n",
       " '00478.jpg',\n",
       " '00479.jpg',\n",
       " '00480.jpg',\n",
       " '00481.jpg',\n",
       " '00482.jpg',\n",
       " '00483.jpg',\n",
       " '00484.jpg',\n",
       " '00485.jpg',\n",
       " '00486.jpg',\n",
       " '00487.jpg',\n",
       " '00488.jpg',\n",
       " '00489.jpg',\n",
       " '00490.jpg',\n",
       " '00491.jpg',\n",
       " '00492.jpg',\n",
       " '00493.jpg',\n",
       " '00494.jpg',\n",
       " '00495.jpg',\n",
       " '00496.jpg',\n",
       " '00497.jpg',\n",
       " '00498.jpg',\n",
       " '00499.jpg',\n",
       " '00500.jpg',\n",
       " '00501.jpg',\n",
       " '00502.jpg',\n",
       " '00503.jpg',\n",
       " '00504.jpg',\n",
       " '00505.jpg',\n",
       " '00506.jpg',\n",
       " '00507.jpg',\n",
       " '00508.jpg',\n",
       " '00509.jpg',\n",
       " '00510.jpg',\n",
       " '00511.jpg',\n",
       " '00512.jpg',\n",
       " '00513.jpg',\n",
       " '00514.jpg',\n",
       " '00515.jpg',\n",
       " '00516.jpg',\n",
       " '00517.jpg',\n",
       " '00518.jpg',\n",
       " '00519.jpg',\n",
       " '00520.jpg',\n",
       " '00521.jpg',\n",
       " '00522.jpg',\n",
       " '00523.jpg',\n",
       " '00524.jpg',\n",
       " '00525.jpg',\n",
       " '00526.jpg',\n",
       " '00527.jpg',\n",
       " '00528.jpg',\n",
       " '00529.jpg',\n",
       " '00530.jpg',\n",
       " '00531.jpg',\n",
       " '00532.jpg',\n",
       " '00533.jpg',\n",
       " '00534.jpg',\n",
       " '00535.jpg',\n",
       " '00536.jpg',\n",
       " '00537.jpg',\n",
       " '00538.jpg',\n",
       " '00539.jpg',\n",
       " '00540.jpg',\n",
       " '00541.jpg',\n",
       " '00542.jpg',\n",
       " '00543.jpg',\n",
       " '00544.jpg',\n",
       " '00545.jpg',\n",
       " '00546.jpg',\n",
       " '00547.jpg',\n",
       " '00548.jpg',\n",
       " '00549.jpg',\n",
       " '00550.jpg',\n",
       " '00551.jpg',\n",
       " '00552.jpg',\n",
       " '00553.jpg',\n",
       " '00554.jpg',\n",
       " '00555.jpg',\n",
       " '00556.jpg',\n",
       " '00557.jpg',\n",
       " '00558.jpg',\n",
       " '00559.jpg',\n",
       " '00560.jpg',\n",
       " '00561.jpg',\n",
       " '00562.jpg',\n",
       " '00563.jpg',\n",
       " '00564.jpg',\n",
       " '00565.jpg',\n",
       " '00566.jpg',\n",
       " '00567.jpg',\n",
       " '00568.jpg',\n",
       " '00569.jpg',\n",
       " '00570.jpg',\n",
       " '00571.jpg',\n",
       " '00572.jpg',\n",
       " '00573.jpg',\n",
       " '00574.jpg',\n",
       " '00575.jpg',\n",
       " '00576.jpg',\n",
       " '00577.jpg',\n",
       " '00578.jpg',\n",
       " '00579.jpg',\n",
       " '00580.jpg',\n",
       " '00581.jpg',\n",
       " '00582.jpg',\n",
       " '00583.jpg',\n",
       " '00584.jpg',\n",
       " '00585.jpg',\n",
       " '00586.jpg',\n",
       " '00587.jpg',\n",
       " '00588.jpg',\n",
       " '00589.jpg',\n",
       " '00590.jpg',\n",
       " '00591.jpg',\n",
       " '00592.jpg',\n",
       " '00593.jpg',\n",
       " '00594.jpg',\n",
       " '00595.jpg',\n",
       " '00596.jpg',\n",
       " '00597.jpg',\n",
       " '00598.jpg',\n",
       " '00599.jpg',\n",
       " '00600.jpg',\n",
       " '00601.jpg',\n",
       " '00602.jpg',\n",
       " '00603.jpg',\n",
       " '00604.jpg',\n",
       " '00605.jpg',\n",
       " '00606.jpg',\n",
       " '00607.jpg',\n",
       " '00608.jpg',\n",
       " '00609.jpg',\n",
       " '00610.jpg',\n",
       " '00611.jpg',\n",
       " '00612.jpg',\n",
       " '00613.jpg',\n",
       " '00614.jpg',\n",
       " '00615.jpg',\n",
       " '00616.jpg',\n",
       " '00617.jpg',\n",
       " '00618.jpg',\n",
       " '00619.jpg',\n",
       " '00620.jpg',\n",
       " '00621.jpg',\n",
       " '00622.jpg',\n",
       " '00623.jpg',\n",
       " '00624.jpg',\n",
       " '00625.jpg',\n",
       " '00626.jpg',\n",
       " '00627.jpg',\n",
       " '00628.jpg',\n",
       " '00629.jpg',\n",
       " '00630.jpg',\n",
       " '00631.jpg',\n",
       " '00632.jpg',\n",
       " '00633.jpg',\n",
       " '00634.jpg',\n",
       " '00635.jpg',\n",
       " '00636.jpg',\n",
       " '00637.jpg',\n",
       " '00638.jpg',\n",
       " '00639.jpg',\n",
       " '00640.jpg',\n",
       " '00641.jpg',\n",
       " '00642.jpg',\n",
       " '00643.jpg',\n",
       " '00644.jpg',\n",
       " '00645.jpg',\n",
       " '00646.jpg',\n",
       " '00647.jpg',\n",
       " '00648.jpg',\n",
       " '00649.jpg',\n",
       " '00650.jpg',\n",
       " '00651.jpg',\n",
       " '00652.jpg',\n",
       " '00653.jpg',\n",
       " '00654.jpg',\n",
       " '00655.jpg',\n",
       " '00656.jpg',\n",
       " '00657.jpg',\n",
       " '00658.jpg',\n",
       " '00659.jpg',\n",
       " '00660.jpg',\n",
       " '00661.jpg',\n",
       " '00662.jpg',\n",
       " '00663.jpg',\n",
       " '00664.jpg',\n",
       " '00665.jpg',\n",
       " '00666.jpg',\n",
       " '00667.jpg',\n",
       " '00668.jpg',\n",
       " '00669.jpg',\n",
       " '00670.jpg',\n",
       " '00671.jpg',\n",
       " '00672.jpg',\n",
       " '00673.jpg',\n",
       " '00674.jpg',\n",
       " '00675.jpg',\n",
       " '00676.jpg',\n",
       " '00677.jpg',\n",
       " '00678.jpg',\n",
       " '00679.jpg',\n",
       " '00680.jpg',\n",
       " '00681.jpg',\n",
       " '00682.jpg',\n",
       " '00683.jpg',\n",
       " '00684.jpg',\n",
       " '00685.jpg',\n",
       " '00686.jpg',\n",
       " '00687.jpg',\n",
       " '00688.jpg',\n",
       " '00689.jpg',\n",
       " '00690.jpg',\n",
       " '00691.jpg',\n",
       " '00692.jpg',\n",
       " '00693.jpg',\n",
       " '00694.jpg',\n",
       " '00695.jpg',\n",
       " '00696.jpg',\n",
       " '00697.jpg',\n",
       " '00698.jpg',\n",
       " '00699.jpg',\n",
       " '00700.jpg',\n",
       " '00701.jpg',\n",
       " '00702.jpg',\n",
       " '00703.jpg',\n",
       " '00704.jpg',\n",
       " '00705.jpg',\n",
       " '00706.jpg',\n",
       " '00707.jpg',\n",
       " '00708.jpg',\n",
       " '00709.jpg',\n",
       " '00710.jpg',\n",
       " '00711.jpg',\n",
       " '00712.jpg',\n",
       " '00713.jpg',\n",
       " '00714.jpg',\n",
       " '00715.jpg',\n",
       " '00716.jpg',\n",
       " '00717.jpg',\n",
       " '00718.jpg',\n",
       " '00719.jpg',\n",
       " '00720.jpg',\n",
       " '00721.jpg',\n",
       " '00722.jpg',\n",
       " '00723.jpg',\n",
       " '00724.jpg',\n",
       " '00725.jpg',\n",
       " '00726.jpg',\n",
       " '00727.jpg',\n",
       " '00728.jpg',\n",
       " '00729.jpg',\n",
       " '00730.jpg',\n",
       " '00731.jpg',\n",
       " '00732.jpg',\n",
       " '00733.jpg',\n",
       " '00734.jpg',\n",
       " '00735.jpg',\n",
       " '00736.jpg',\n",
       " '00737.jpg',\n",
       " '00738.jpg',\n",
       " '00739.jpg',\n",
       " '00740.jpg',\n",
       " '00741.jpg',\n",
       " '00742.jpg',\n",
       " '00743.jpg',\n",
       " '00744.jpg',\n",
       " '00745.jpg',\n",
       " '00746.jpg',\n",
       " '00747.jpg',\n",
       " '00748.jpg',\n",
       " '00749.jpg',\n",
       " '00750.jpg',\n",
       " '00751.jpg',\n",
       " '00752.jpg',\n",
       " '00753.jpg',\n",
       " '00754.jpg',\n",
       " '00755.jpg',\n",
       " '00756.jpg',\n",
       " '00757.jpg',\n",
       " '00758.jpg',\n",
       " '00759.jpg',\n",
       " '00760.jpg',\n",
       " '00761.jpg',\n",
       " '00762.jpg',\n",
       " '00763.jpg',\n",
       " '00764.jpg',\n",
       " '00765.jpg',\n",
       " '00766.jpg',\n",
       " '00767.jpg',\n",
       " '00768.jpg',\n",
       " '00769.jpg',\n",
       " '00770.jpg',\n",
       " '00771.jpg',\n",
       " '00772.jpg',\n",
       " '00773.jpg',\n",
       " '00774.jpg',\n",
       " '00775.jpg',\n",
       " '00776.jpg',\n",
       " '00777.jpg',\n",
       " '00778.jpg',\n",
       " '00779.jpg',\n",
       " '00780.jpg',\n",
       " '00781.jpg',\n",
       " '00782.jpg',\n",
       " '00783.jpg',\n",
       " '00784.jpg',\n",
       " '00785.jpg',\n",
       " '00786.jpg',\n",
       " '00787.jpg',\n",
       " '00788.jpg',\n",
       " '00789.jpg',\n",
       " '00790.jpg',\n",
       " '00791.jpg',\n",
       " '00792.jpg',\n",
       " '00793.jpg',\n",
       " '00794.jpg',\n",
       " '00795.jpg',\n",
       " '00796.jpg',\n",
       " '00797.jpg',\n",
       " '00798.jpg',\n",
       " '00799.jpg',\n",
       " '00800.jpg',\n",
       " '00801.jpg',\n",
       " '00802.jpg',\n",
       " '00803.jpg',\n",
       " '00804.jpg',\n",
       " '00805.jpg',\n",
       " '00806.jpg',\n",
       " '00807.jpg',\n",
       " '00808.jpg',\n",
       " '00809.jpg',\n",
       " '00810.jpg',\n",
       " '00811.jpg',\n",
       " '00812.jpg',\n",
       " '00813.jpg',\n",
       " '00814.jpg',\n",
       " '00815.jpg',\n",
       " '00816.jpg',\n",
       " '00817.jpg',\n",
       " '00818.jpg',\n",
       " '00819.jpg',\n",
       " '00820.jpg',\n",
       " '00821.jpg',\n",
       " '00822.jpg',\n",
       " '00823.jpg',\n",
       " '00824.jpg',\n",
       " '00825.jpg',\n",
       " '00826.jpg',\n",
       " '00827.jpg',\n",
       " '00828.jpg',\n",
       " '00829.jpg',\n",
       " '00830.jpg',\n",
       " '00831.jpg',\n",
       " '00832.jpg',\n",
       " '00833.jpg',\n",
       " '00834.jpg',\n",
       " '00835.jpg',\n",
       " '00836.jpg',\n",
       " '00837.jpg',\n",
       " '00838.jpg',\n",
       " '00839.jpg',\n",
       " '00840.jpg',\n",
       " '00841.jpg',\n",
       " '00842.jpg',\n",
       " '00843.jpg',\n",
       " '00844.jpg',\n",
       " '00845.jpg',\n",
       " '00846.jpg',\n",
       " '00847.jpg',\n",
       " '00848.jpg',\n",
       " '00849.jpg',\n",
       " '00850.jpg',\n",
       " '00851.jpg',\n",
       " '00852.jpg',\n",
       " '00853.jpg',\n",
       " '00854.jpg',\n",
       " '00855.jpg',\n",
       " '00856.jpg',\n",
       " '00857.jpg',\n",
       " '00858.jpg',\n",
       " '00859.jpg',\n",
       " '00860.jpg',\n",
       " '00861.jpg',\n",
       " '00862.jpg',\n",
       " '00863.jpg',\n",
       " '00864.jpg',\n",
       " '00865.jpg',\n",
       " '00866.jpg',\n",
       " '00867.jpg',\n",
       " '00868.jpg',\n",
       " '00869.jpg',\n",
       " '00870.jpg',\n",
       " '00871.jpg',\n",
       " '00872.jpg',\n",
       " '00873.jpg',\n",
       " '00874.jpg',\n",
       " '00875.jpg',\n",
       " '00876.jpg',\n",
       " '00877.jpg',\n",
       " '00878.jpg',\n",
       " '00879.jpg',\n",
       " '00880.jpg',\n",
       " '00881.jpg',\n",
       " '00882.jpg',\n",
       " '00883.jpg',\n",
       " '00884.jpg',\n",
       " '00885.jpg',\n",
       " '00886.jpg',\n",
       " '00887.jpg',\n",
       " '00888.jpg',\n",
       " '00889.jpg',\n",
       " '00890.jpg',\n",
       " '00891.jpg',\n",
       " '00892.jpg',\n",
       " '00893.jpg',\n",
       " '00894.jpg',\n",
       " '00895.jpg',\n",
       " '00896.jpg',\n",
       " '00897.jpg',\n",
       " '00898.jpg',\n",
       " '00899.jpg',\n",
       " '00900.jpg',\n",
       " '00901.jpg',\n",
       " '00902.jpg',\n",
       " '00903.jpg',\n",
       " '00904.jpg',\n",
       " '00905.jpg',\n",
       " '00906.jpg',\n",
       " '00907.jpg',\n",
       " '00908.jpg',\n",
       " '00909.jpg',\n",
       " '00910.jpg',\n",
       " '00911.jpg',\n",
       " '00912.jpg',\n",
       " '00913.jpg',\n",
       " '00914.jpg',\n",
       " '00915.jpg',\n",
       " '00916.jpg',\n",
       " '00917.jpg',\n",
       " '00918.jpg',\n",
       " '00919.jpg',\n",
       " '00920.jpg',\n",
       " '00921.jpg',\n",
       " '00922.jpg',\n",
       " '00923.jpg',\n",
       " '00924.jpg',\n",
       " '00925.jpg',\n",
       " '00926.jpg',\n",
       " '00927.jpg',\n",
       " '00928.jpg',\n",
       " '00929.jpg',\n",
       " '00930.jpg',\n",
       " '00931.jpg',\n",
       " '00932.jpg',\n",
       " '00933.jpg',\n",
       " '00934.jpg',\n",
       " '00935.jpg',\n",
       " '00936.jpg',\n",
       " '00937.jpg',\n",
       " '00938.jpg',\n",
       " '00939.jpg',\n",
       " '00940.jpg',\n",
       " '00941.jpg',\n",
       " '00942.jpg',\n",
       " '00943.jpg',\n",
       " '00944.jpg',\n",
       " '00945.jpg',\n",
       " '00946.jpg',\n",
       " '00947.jpg',\n",
       " '00948.jpg',\n",
       " '00949.jpg',\n",
       " '00950.jpg',\n",
       " '00951.jpg',\n",
       " '00952.jpg',\n",
       " '00953.jpg',\n",
       " '00954.jpg',\n",
       " '00955.jpg',\n",
       " '00956.jpg',\n",
       " '00957.jpg',\n",
       " '00958.jpg',\n",
       " '00959.jpg',\n",
       " '00960.jpg',\n",
       " '00961.jpg',\n",
       " '00962.jpg',\n",
       " '00963.jpg',\n",
       " '00964.jpg',\n",
       " '00965.jpg',\n",
       " '00966.jpg',\n",
       " '00967.jpg',\n",
       " '00968.jpg',\n",
       " '00969.jpg',\n",
       " '00970.jpg',\n",
       " '00971.jpg',\n",
       " '00972.jpg',\n",
       " '00973.jpg',\n",
       " '00974.jpg',\n",
       " '00975.jpg',\n",
       " '00976.jpg',\n",
       " '00977.jpg',\n",
       " '00978.jpg',\n",
       " '00979.jpg',\n",
       " '00980.jpg',\n",
       " '00981.jpg',\n",
       " '00982.jpg',\n",
       " '00983.jpg',\n",
       " '00984.jpg',\n",
       " '00985.jpg',\n",
       " '00986.jpg',\n",
       " '00987.jpg',\n",
       " '00988.jpg',\n",
       " '00989.jpg',\n",
       " '00990.jpg',\n",
       " '00991.jpg',\n",
       " '00992.jpg',\n",
       " '00993.jpg',\n",
       " '00994.jpg',\n",
       " '00995.jpg',\n",
       " '00996.jpg',\n",
       " '00997.jpg',\n",
       " '00998.jpg',\n",
       " '00999.jpg',\n",
       " '01000.jpg',\n",
       " ...]"
      ]
     },
     "execution_count": 15,
     "metadata": {},
     "output_type": "execute_result"
    }
   ],
   "source": [
    "negative_images.sort()\n",
    "negative_images"
   ]
  },
  {
   "cell_type": "markdown",
   "metadata": {
    "button": false,
    "new_sheet": false,
    "run_control": {
     "read_only": false
    }
   },
   "source": [
    "Before we can show an image, we need to open it, which we can do using the **Image** module in the **PIL** library. So to open the first image, we run the following:"
   ]
  },
  {
   "cell_type": "code",
   "execution_count": null,
   "metadata": {
    "button": false,
    "new_sheet": false,
    "run_control": {
     "read_only": false
    }
   },
   "outputs": [],
   "source": [
    "image_data = Image.open('./Negative/{}'.format(negative_images[0]))"
   ]
  },
  {
   "cell_type": "markdown",
   "metadata": {
    "button": false,
    "new_sheet": false,
    "run_control": {
     "read_only": false
    }
   },
   "source": [
    "Then to view the image, you can simply run:"
   ]
  },
  {
   "cell_type": "code",
   "execution_count": null,
   "metadata": {
    "button": false,
    "new_sheet": false,
    "run_control": {
     "read_only": false
    }
   },
   "outputs": [],
   "source": [
    "image_data"
   ]
  },
  {
   "cell_type": "markdown",
   "metadata": {
    "button": false,
    "new_sheet": false,
    "run_control": {
     "read_only": false
    }
   },
   "source": [
    "or use the <code>imshow</code> method as follows:"
   ]
  },
  {
   "cell_type": "code",
   "execution_count": null,
   "metadata": {
    "button": false,
    "new_sheet": false,
    "run_control": {
     "read_only": false
    }
   },
   "outputs": [],
   "source": [
    "plt.imshow(image_data)"
   ]
  },
  {
   "cell_type": "markdown",
   "metadata": {
    "button": false,
    "new_sheet": false,
    "run_control": {
     "read_only": false
    }
   },
   "source": [
    "Let's loop through all the images in the <code>./Negative</code> directory and add save their paths."
   ]
  },
  {
   "cell_type": "code",
   "execution_count": null,
   "metadata": {
    "button": false,
    "new_sheet": false,
    "run_control": {
     "read_only": false
    },
    "scrolled": true
   },
   "outputs": [],
   "source": [
    "negative_images_dir = ['./Negative/{}'.format(image) for image in negative_images]\n",
    "negative_images_dir"
   ]
  },
  {
   "cell_type": "markdown",
   "metadata": {
    "button": false,
    "new_sheet": false,
    "run_control": {
     "read_only": false
    }
   },
   "source": [
    "Let's check how many images with no cracks exist in the dataset."
   ]
  },
  {
   "cell_type": "code",
   "execution_count": null,
   "metadata": {
    "button": false,
    "new_sheet": false,
    "run_control": {
     "read_only": false
    }
   },
   "outputs": [],
   "source": [
    "len(negative_images_dir)"
   ]
  },
  {
   "cell_type": "markdown",
   "metadata": {
    "button": false,
    "new_sheet": false,
    "run_control": {
     "read_only": false
    }
   },
   "source": [
    "**Your turn**: Save the paths to all the images in the *./Positive* directory in a list called **positive_images_dir**. Make sure to sort the paths."
   ]
  },
  {
   "cell_type": "code",
   "execution_count": null,
   "metadata": {
    "button": false,
    "new_sheet": false,
    "run_control": {
     "read_only": false
    }
   },
   "outputs": [],
   "source": [
    "## Type your answer here\n",
    "\n",
    "\n"
   ]
  },
  {
   "cell_type": "markdown",
   "metadata": {
    "button": false,
    "new_sheet": false,
    "run_control": {
     "read_only": false
    }
   },
   "source": [
    "### Question: How many images of cracked concrete exist in the *./Positive* directory?"
   ]
  },
  {
   "cell_type": "code",
   "execution_count": null,
   "metadata": {
    "button": false,
    "new_sheet": false,
    "run_control": {
     "read_only": false
    }
   },
   "outputs": [],
   "source": [
    "## You can use this cell to type your code to answer the above question\n",
    "\n"
   ]
  },
  {
   "cell_type": "markdown",
   "metadata": {
    "button": false,
    "new_sheet": false,
    "run_control": {
     "read_only": false
    }
   },
   "source": [
    "### Question: Show the first four images with cracked concrete."
   ]
  },
  {
   "cell_type": "code",
   "execution_count": null,
   "metadata": {
    "button": false,
    "new_sheet": false,
    "run_control": {
     "read_only": false
    },
    "scrolled": true
   },
   "outputs": [],
   "source": [
    "## You can use this cell to type your code to answer the above question\n",
    "\n",
    "image_data1 = Image.open('./Negative/{}'.format(negative_images[0]))\n",
    "image_data2 = Image.open('./Negative/{}'.format(negative_images[1]))\n",
    "image_data3 = Image.open('./Negative/{}'.format(negative_images[2]))\n",
    "image_data4 = Image.open('./Negative/{}'.format(negative_images[3]))\n"
   ]
  },
  {
   "cell_type": "markdown",
   "metadata": {
    "button": false,
    "new_sheet": false,
    "run_control": {
     "read_only": false
    }
   },
   "source": [
    " "
   ]
  },
  {
   "cell_type": "markdown",
   "metadata": {
    "button": false,
    "new_sheet": false,
    "run_control": {
     "read_only": false
    }
   },
   "source": [
    "### Thank you for completing this lab!\n",
    "\n",
    "This notebook was created by Alex Aklson. I hope you found this lab interesting and educational."
   ]
  },
  {
   "cell_type": "markdown",
   "metadata": {
    "button": false,
    "new_sheet": false,
    "run_control": {
     "read_only": false
    }
   },
   "source": [
    "This notebook is part of a course on **Coursera** called *AI Capstone Project with Deep Learning*. If you accessed this notebook outside the course, you can take this course online by clicking [here](https://cocl.us/DL0321EN_Coursera_Week1_LAB1)."
   ]
  },
  {
   "cell_type": "markdown",
   "metadata": {
    "button": false,
    "new_sheet": false,
    "run_control": {
     "read_only": false
    }
   },
   "source": [
    "<hr>\n",
    "\n",
    "Copyright &copy; 2020 [IBM Developer Skills Network](https://cognitiveclass.ai/?utm_source=bducopyrightlink&utm_medium=dswb&utm_campaign=bdu). This notebook and its source code are released under the terms of the [MIT License](https://bigdatauniversity.com/mit-license/)."
   ]
  }
 ],
 "metadata": {
  "kernelspec": {
   "display_name": "Python 3",
   "language": "python",
   "name": "python3"
  },
  "language_info": {
   "codemirror_mode": {
    "name": "ipython",
    "version": 3
   },
   "file_extension": ".py",
   "mimetype": "text/x-python",
   "name": "python",
   "nbconvert_exporter": "python",
   "pygments_lexer": "ipython3",
   "version": "3.7.6"
  }
 },
 "nbformat": 4,
 "nbformat_minor": 4
}
